{
 "cells": [
  {
   "cell_type": "markdown",
   "metadata": {},
   "source": [
    "# NBD - Homework 1 -  Networking\n",
    "\n",
    "## Part 1\n",
    "\n",
    "### Write a script to generate a p-ER random graph\n",
    "\n",
    "### Write a script to generate an r-regular random graph."
   ]
  },
  {
   "cell_type": "code",
   "execution_count": 2,
   "metadata": {
    "collapsed": true
   },
   "outputs": [],
   "source": [
    "import networkx as nx\n",
    "import matplotlib.pyplot as plt\n",
    "import numpy.linalg as alg\n",
    "import numpy as np\n",
    "from collections import deque\n",
    "from numpy import inf\n",
    "import random\n",
    "import queue as qu"
   ]
  },
  {
   "cell_type": "code",
   "execution_count": 3,
   "metadata": {
    "collapsed": true
   },
   "outputs": [],
   "source": [
    "n = 6\n",
    "m = 3\n",
    "p = 0.3\n",
    "r = 5\n",
    "\n",
    "# create a G_n,m random graph\n",
    "Gnm = nx.gnm_random_graph(n = n, m = m)\n",
    "# the adjacency matrix\n",
    "A_Gnm = nx.to_numpy_matrix(Gnm)\n",
    "# create a G_n,p random graph\n",
    "Gnp = nx.gnp_random_graph(n=n, p=p)\n",
    "# the adjacency matrix\n",
    "A_Gnp = nx.to_numpy_matrix(Gnp)\n",
    "# create a r-regular random graph\n",
    "rrG = nx.random_regular_graph(d=r, n=n)\n",
    "# the adjacency matrix\n",
    "A_rrG = nx.to_numpy_matrix(rrG)"
   ]
  },
  {
   "cell_type": "markdown",
   "metadata": {},
   "source": [
    "Without using libraries..."
   ]
  },
  {
   "cell_type": "code",
   "execution_count": 38,
   "metadata": {},
   "outputs": [],
   "source": [
    "class Error(Exception):\n",
    "...     def __init__(self, value):\n",
    "...         self.value = value\n",
    "...     def __str__(self):\n",
    "...         return repr(self.value)\n",
    "\n",
    "\n",
    "def r_regular(n, k) :\n",
    "    \n",
    "    if (n * k) % 2 != 0:\n",
    "        raise Error(\"n * d must be even\")\n",
    "\n",
    "    if not 0 <= k < n:\n",
    "        raise Error(\"the 0 <= d < n inequality must be satisfied\")\n",
    "\n",
    "    graph=nx.Graph()\n",
    "    c=nx.path_graph(n)\n",
    "    graph.add_nodes_from(c)\n",
    "    # initialize link, a dictionary containing, for each node, the number of available ports\n",
    "    links = {}\n",
    "    for i in range(0,n) :\n",
    "        links[i] = k\n",
    "    \n",
    "    \"\"\"pos = nx.spring_layout(graph)\n",
    "    nx.draw(graph, pos)\n",
    "    plt.show() \"\"\"\n",
    "\n",
    "    # while a couple of nodes with free ports still exists...\n",
    "    while len(links)>1:\n",
    "        # sample two items from the set of those nodes\n",
    "        randomSample = random.sample(links.items(), 2)\n",
    "        (nodeA, kA) = randomSample[0]\n",
    "        (nodeB, kB) = randomSample[1]\n",
    "       \n",
    "        while (graph.has_edge(nodeA,nodeB) and len(links) != 2):\n",
    "            # randomly select 2 nodes and check if the 2 nodes are already connected\n",
    "            randomSample = random.sample(links.items(), 2)\n",
    "            (nodeA, kA) = randomSample[0]\n",
    "            (nodeB, kB) = randomSample[1]\n",
    "        \n",
    "        graph.add_edge(nodeA,nodeB)\n",
    "        \n",
    "        \"\"\"print(nodeA, nodeB)\n",
    "        nx.draw(graph, pos, with_labels=True)\n",
    "        plt.show() \"\"\"\n",
    "        \n",
    "        # update the number of free links for each node:\n",
    "        # if the number of available ports was 1, delete the node, \n",
    "        # else: decrease the number by 1\n",
    "        if kA == 1:\n",
    "            del links[nodeA]\n",
    "        else :\n",
    "            links[nodeA] = kA - 1\n",
    "        if kB == 1:\n",
    "            del links[nodeB]\n",
    "        else :\n",
    "            links[nodeB] = kB - 1\n",
    "    if len(links) == 1: print('*')\n",
    "    return(graph)\n",
    "    \n",
    "G = r_regular(10,4)"
   ]
  },
  {
   "cell_type": "code",
   "execution_count": 5,
   "metadata": {
    "collapsed": true
   },
   "outputs": [],
   "source": [
    "def p_ER_graph(n, p) :\n",
    "    \"\"\"\n",
    "    Input:\n",
    "    - n: number of nodes in the graph\n",
    "    - p: probability that two nodes are connected \n",
    "    \n",
    "    Ouput: \n",
    "    - graph: a p-Erdos Renyi graph\n",
    "    \"\"\"\n",
    "    \n",
    "    if not 0 <= p <= 1:\n",
    "        raise Error(\"p must lie in [0,1]\")\n",
    "\n",
    "    graph=nx.Graph()\n",
    "    \n",
    "    # each couple of nodes are connected with probability p\n",
    "    for i in range(0,n) :\n",
    "        for j in range((i+1),n):\n",
    "            out = random.uniform(0,1)\n",
    "            if out < p:\n",
    "                graph.add_edge(i,j)\n",
    "    \n",
    "    return(graph)\n",
    "\n",
    "G = p_ER_graph(10, 0.1)"
   ]
  },
  {
   "cell_type": "markdown",
   "metadata": {},
   "source": [
    "Write a script to check the connectivity of a given graph.\n",
    "- algebraic method 1 (irreducibility);\n",
    "- algebraic method 2 (eigenvalue of the Laplacian matrix);\n",
    "- breadth-first search algorithm.\n"
   ]
  },
  {
   "cell_type": "code",
   "execution_count": 18,
   "metadata": {},
   "outputs": [
    {
     "data": {
      "text/plain": [
       "1"
      ]
     },
     "execution_count": 18,
     "metadata": {},
     "output_type": "execute_result"
    }
   ],
   "source": [
    "# Irreducibility\n",
    "\n",
    "def Irreducibility(G):\n",
    "    \"\"\"\n",
    "    This function checks the connectivity of a graph testing its irreducibility.\n",
    "    \n",
    "    Input:\n",
    "    - G: a graph\n",
    "    \n",
    "    Output:\n",
    "    - 1 if the graph is connected, 0 otherwise\n",
    "    \"\"\"\n",
    "    A = nx.to_numpy_matrix(G)\n",
    "    n = A.shape[0]\n",
    "    S = np.zeros((n,n))\n",
    "    for n in range(n):\n",
    "        S = S + alg.matrix_power(M=A, n=n)\n",
    "    \n",
    "    if S.all() > 0: \n",
    "        #print('The graph is irreducible,\\n-> The graph is connected')\n",
    "        return(1)\n",
    "    else:\n",
    "        return(0)\n",
    "    \n",
    "Irreducibility(rrG)"
   ]
  },
  {
   "cell_type": "code",
   "execution_count": 19,
   "metadata": {
    "scrolled": true
   },
   "outputs": [
    {
     "data": {
      "text/plain": [
       "1"
      ]
     },
     "execution_count": 19,
     "metadata": {},
     "output_type": "execute_result"
    }
   ],
   "source": [
    "# Eigenvalue of the Laplacian Matrix\n",
    "\n",
    "def Laplacian(G):\n",
    "    \"\"\"\n",
    "    This function checks the connectivity of a graph through the Laplacian matrix.\n",
    "    \n",
    "    Input:\n",
    "    - G: a graph\n",
    "    \n",
    "    Output:\n",
    "    - 1 if the graph is connected, 0 otherwise\n",
    "    \"\"\"\n",
    "    # graph adjacency matrix\n",
    "    A = nx.to_numpy_matrix(G)\n",
    "    # diagonal matrix matrix containing degrees\n",
    "    D = np.diag([degree[1] for degree in nx.degree(G=G)])\n",
    "    # Laplacian matrix\n",
    "    L = D-A\n",
    "    eig = np.sort(alg.eigvalsh(L))\n",
    "    #print(eig)\n",
    "    if eig[1] > 0: return(1)\n",
    "    else: return(0)\n",
    "    \n",
    "Laplacian(rrG)"
   ]
  },
  {
   "cell_type": "code",
   "execution_count": 21,
   "metadata": {},
   "outputs": [
    {
     "data": {
      "text/plain": [
       "1"
      ]
     },
     "execution_count": 21,
     "metadata": {},
     "output_type": "execute_result"
    }
   ],
   "source": [
    "# Breath First Search\n",
    "\n",
    "def BFS(G, i):\n",
    "    '''\n",
    "    This function performs the Breath First Search algorithm in order to find the hop-distances of all the \n",
    "    other nodes in the graph with respect to node i.\n",
    "    \n",
    "    Input:\n",
    "    - G: a graph\n",
    "    - i: a root\n",
    "    \n",
    "    Output: \n",
    "    - distances: a dictionary in which each key is a node of G, \n",
    "        and each value is the hop-distance from the root i\n",
    "    '''\n",
    "    # initialization\n",
    "    for node in list(G.nodes):\n",
    "        G.node[node][\"Distance\"] = inf\n",
    "        G.node[node][\"Parent\"] = \"NIL\"\n",
    "    Q = qu.Queue()\n",
    "    root = i\n",
    "    G.node[root][\"Distance\"] = 0\n",
    "    Q.put(root)\n",
    "    while not Q.empty():\n",
    "        current = Q.get()\n",
    "        for neigh in nx.all_neighbors(G,current):\n",
    "            if G.node[neigh][\"Distance\"] == inf:\n",
    "                G.node[neigh][\"Distance\"] = G.node[current][\"Distance\"]+1\n",
    "                G.node[neigh][\"Parent\"] = current\n",
    "                Q.put(neigh)\n",
    "\n",
    "    distances = nx.get_node_attributes(G, \"Distance\").values()\n",
    "    return(distances)\n",
    "\n",
    "def BFS_connectivity(G):\n",
    "    '''\n",
    "    This function check if a graph is connected using the Breath First Search algorithm.\n",
    "    BFS is performed starting from each node in the graph.\n",
    "    Then, every time the function checks whether any of the hop-distances is infinite.\n",
    "    If the control passes for each node in the graph, we can assert that the graph is connected.\n",
    "    \n",
    "    Input:\n",
    "    - G a graph\n",
    "    \n",
    "    Output: \n",
    "    - 1 if the graph is connected, 0 otherwise\n",
    "    '''\n",
    "    for start in G.nodes():\n",
    "        distances = list(BFS(G, start))\n",
    "        if any(t == inf for t in distances):   \n",
    "            return(0)\n",
    "    return(1)\n",
    "    \n",
    "G = nx.random_regular_graph(d=3, n=20)\n",
    "BFS_connectivity(G=G)"
   ]
  },
  {
   "cell_type": "code",
   "execution_count": 22,
   "metadata": {},
   "outputs": [
    {
     "data": {
      "image/png": "[encoded data removed]",
      "text/plain": [
       "<matplotlib.figure.Figure at 0x1b3c9236f98>"
      ]
     },
     "metadata": {},
     "output_type": "display_data"
    }
   ],
   "source": [
    "# Plot the graph\n",
    "\n",
    "pos = nx.spring_layout(G)\n",
    "nx.draw(G, pos)\n",
    "node_labels = nx.get_node_attributes(G,'Distance')\n",
    "nx.draw_networkx_labels(G,pos, labels = node_labels)\n",
    "plt.show() "
   ]
  },
  {
   "cell_type": "markdown",
   "metadata": {},
   "source": [
    "### Compare the complexity as a function of n of the methods above"
   ]
  },
  {
   "cell_type": "markdown",
   "metadata": {},
   "source": [
    "Checking connectivity with BFS is O(n(n + n(n-1)/2)) = O(n^3)\n",
    "\n",
    "Irreducibility's complexity is O(n n^3) = O(n^4)\n",
    "\n",
    "Complexity in Laplacian is O(n logn (n^3)) = O(n^4 logn)"
   ]
  },
  {
   "cell_type": "markdown",
   "metadata": {},
   "source": [
    "### Consider the probability that a graph G is connected: produce two plots:\n",
    "\n",
    "- pc(G) vs. p for Erdos-Renyi graphs G(n; p) with n = 100\n",
    "\n",
    "- pc(G) vs. n for r -regular random graphs with r = 2; 4; 8; 16 and n ranging up to 100"
   ]
  },
  {
   "cell_type": "code",
   "execution_count": 261,
   "metadata": {},
   "outputs": [
    {
     "data": {
      "image/png": "[encoded data removed]",
      "text/plain": [
       "<matplotlib.figure.Figure at 0x2167a2b5c50>"
      ]
     },
     "metadata": {},
     "output_type": "display_data"
    }
   ],
   "source": [
    "def p_er_re(n = 100, p_from = 0, p_to = 0.2, p_by = 0.005):\n",
    "    # simulation size for propability estimation\n",
    "    B = 10\n",
    "    # create a vector of probabilities\n",
    "    p = np.arange(p_from,p_to,p_by)\n",
    "    # initiate outcome list\n",
    "    pc = []\n",
    "    for i in range(len(p)):\n",
    "        phat = []\n",
    "        for b in range(B): \n",
    "            # create a G_n,p random graph\n",
    "            Gnp = nx.gnp_random_graph(n=n, p=p[i])\n",
    "            # check whether the graph is connected and append the\n",
    "            # result of the test in the out list\n",
    "            phat.append(BFS_connectivity(Gnp))\n",
    "        phat = np.array(phat)\n",
    "        pc.append(np.mean(phat))\n",
    "    x = p\n",
    "    y = pc\n",
    "    plt.plot(x, y)\n",
    "    \n",
    "    plt.title(\"Probability of connected Erdos-Renyi graph G(n,p)\\nfor different values of p\\nwith fixed n =\"+ str(n))\n",
    "    plt.ylabel(\"prob\")\n",
    "    plt.xlabel(\"p\")\n",
    "    plt.legend(loc = \"upper right\")\n",
    "    plt.show()\n",
    "    return\n",
    "\n",
    "p_er_re()"
   ]
  },
  {
   "cell_type": "code",
   "execution_count": 23,
   "metadata": {},
   "outputs": [
    {
     "data": {
      "image/png": "[encoded data removed]",
      "text/plain": [
       "<matplotlib.figure.Figure at 0x1b3c9c58630>"
      ]
     },
     "metadata": {},
     "output_type": "display_data"
    }
   ],
   "source": [
    "def p_rrrg(r_list =  [2,4,8], nmax = 50):\n",
    "    for r in r_list:\n",
    "        # simulation size for propability estimation\n",
    "        B = 10\n",
    "        # initiate outcome list\n",
    "        pc = []\n",
    "        for i in range(r+1,nmax):\n",
    "            phat = []\n",
    "            for b in range(B): \n",
    "                # create a r-regular random graph\n",
    "                rrG = nx.random_regular_graph(d=r, n=i)\n",
    "                # check whether the graph is connected and append the\n",
    "                # result of the test in the out list\n",
    "                phat.append(BFS_connectivity(rrG))\n",
    "            phat = np.array(phat)\n",
    "            pc.append(np.mean(phat))\n",
    "        x = np.array(list(range(r+1,nmax)))\n",
    "        y = pc\n",
    "        plt.plot(x, y, label = 'r =' + str(r))\n",
    "    \n",
    "    plt.title(\"Probability of connected r-regular random graph G(n,r)\\nas a function of n\\nfor different values of r\")\n",
    "    plt.ylabel(\"p\")\n",
    "    plt.xlabel(\"n\")\n",
    "    plt.legend(loc = \"lower left\")\n",
    "    plt.show()\n",
    "    return\n",
    "\n",
    "p_rrrg()"
   ]
  },
  {
   "cell_type": "markdown",
   "metadata": {},
   "source": [
    "## Part 2"
   ]
  },
  {
   "cell_type": "code",
   "execution_count": 203,
   "metadata": {
    "collapsed": true
   },
   "outputs": [],
   "source": [
    "def jellyfish(n, k):\n",
    "    \"\"\"\n",
    "    This function generates a random graph\n",
    "    \n",
    "    Input:\n",
    "    - n: number of nodes\n",
    "    - k: the number of ports available in each switch\n",
    "    \n",
    "    Output:\n",
    "    -graph: a graph\n",
    "    \"\"\"\n",
    "    \n",
    "    # initialize a graph connecting all the nodes with n-1 edges    \n",
    "    graph=nx.Graph()\n",
    "    c=nx.path_graph(n)\n",
    "    graph.add_nodes_from(c)\n",
    "    # links dictionary contains the number of free ports for each node in the graph\n",
    "    links = {}\n",
    "    g = {}\n",
    "    # for each node...\n",
    "    for i in range(0,n) :\n",
    "        # ... there are k links\n",
    "        links[i] = k\n",
    "        # ... and links are stored in a set\n",
    "        g[i] = set([])\n",
    "    \n",
    "    # repeat the same until the randomly selected nodes are connected and they are not distinct\n",
    "    while len(links) > 1 :\n",
    "\n",
    "        randomSample = random.sample(links.items(), 2)\n",
    "        (nodeA, kA) = randomSample[0]\n",
    "        (nodeB, kB) = randomSample[1]\n",
    "    \n",
    "        while (graph.has_edge(nodeA,nodeB)) and len(links)!=2:\n",
    "           # randomly select 2 nodes and check if the 2 nodes are already connected\n",
    "            randomSample = random.sample(links.items(), 2)\n",
    "            (nodeA, kA) = randomSample[0]\n",
    "            (nodeB, kB) = randomSample[1]\n",
    "            \n",
    "        # assume all links are bidirectional... update g\n",
    "        g[nodeA].add(nodeB)\n",
    "        g[nodeB].add(nodeA)\n",
    "        graph.add_edge(nodeA, nodeB) \n",
    "\n",
    "        # update the number of free links for each node\n",
    "        if kA == 1:\n",
    "            del links[nodeA]\n",
    "        else :\n",
    "            links[nodeA] = kA - 1\n",
    "        if kB == 1:\n",
    "            del links[nodeB]\n",
    "        else :\n",
    "            links[nodeB] = kB - 1\n",
    "\n",
    "    # check if there is a single switch with more than 2 unmatched ports\n",
    "    # if there is only one switch left: remove a random link etc..\n",
    "    if (len(links) == 1) :\n",
    "\n",
    "        (node, linksLeft) = list(links.items())[0]\n",
    "        while (linksLeft > 1) :\n",
    "            # choose a \"a\" node in the dictionary containing nodes with no free ports\n",
    "            # it must be distinct from \"node\" and doesn't have to be a neighbor of \"node\"\n",
    "            a = random.randint(0, len(g) - 1)\n",
    "            while (a == node or a in g[node]) :                                                            # or len(g[a] - set([node])) == 0 \n",
    "                a = random.randint(0, len(g) - 1)\n",
    "            # choose node \"b\"  neighbor of \"a\"\n",
    "            b = random.choice(list(g[a]))\n",
    "            while (b in g[node]) :\n",
    "                b = random.choice(list(g[a]))\n",
    "            # remove link is (a, b), add new links (node, a), (node, b)\n",
    "            g[a].remove(b)\n",
    "            g[b].remove(a)\n",
    "            graph.remove_edge(a, b)\n",
    "            g[node].add(a)\n",
    "            g[a].add(node)\n",
    "            g[node].add(b)\n",
    "            g[b].add(node)\n",
    "            graph.add_edge(node, a)\n",
    "            graph.add_edge(node, b)\n",
    "            linksLeft = linksLeft - 2\n",
    "            \n",
    "    return graph"
   ]
  },
  {
   "cell_type": "markdown",
   "metadata": {},
   "source": [
    "### Write a script that: \n",
    "\n",
    "(i) generates a random graph describing\n",
    "the topology of the ToR switch network; \n",
    "\n",
    "(ii) checks its\n",
    "connectivity; \n",
    "\n",
    "(iii) finds shortest path routes; \n",
    "\n",
    "(iv) estimates the mean of the lengths \n",
    "    of the shortest paths connecting all node pairs"
   ]
  },
  {
   "cell_type": "code",
   "execution_count": 26,
   "metadata": {},
   "outputs": [
    {
     "data": {
      "text/plain": [
       "({0: 0,\n",
       "  1: 3,\n",
       "  2: 3,\n",
       "  3: 3,\n",
       "  4: 2,\n",
       "  5: 3,\n",
       "  6: 2,\n",
       "  7: 3,\n",
       "  8: 1,\n",
       "  9: 3,\n",
       "  10: 4,\n",
       "  11: 4,\n",
       "  12: 3,\n",
       "  13: 1,\n",
       "  14: 1,\n",
       "  15: 2,\n",
       "  16: 2,\n",
       "  17: 2,\n",
       "  18: 2,\n",
       "  19: 3},\n",
       " {0: [0],\n",
       "  1: [1, 17, 8, 0],\n",
       "  2: [2, 17, 8, 0],\n",
       "  3: [3, 18, 8, 0],\n",
       "  4: [4, 13, 0],\n",
       "  5: [5, 15, 14, 0],\n",
       "  6: [6, 14, 0],\n",
       "  7: [7, 4, 13, 0],\n",
       "  8: [8, 0],\n",
       "  9: [9, 18, 8, 0],\n",
       "  10: [10, 2, 17, 8, 0],\n",
       "  11: [11, 12, 6, 14, 0],\n",
       "  12: [12, 6, 14, 0],\n",
       "  13: [13, 0],\n",
       "  14: [14, 0],\n",
       "  15: [15, 14, 0],\n",
       "  16: [16, 13, 0],\n",
       "  17: [17, 8, 0],\n",
       "  18: [18, 8, 0],\n",
       "  19: [19, 15, 14, 0]})"
      ]
     },
     "execution_count": 26,
     "metadata": {},
     "output_type": "execute_result"
    }
   ],
   "source": [
    "def shortest_paths(G, source):\n",
    "    \"\"\"\n",
    "    This function computes the shortest path from a source node using Dijkstra's algorithm\n",
    "    \n",
    "    Input:\n",
    "    - G a graph\n",
    "    - source: a node in the graph\n",
    "\n",
    "    Output:\n",
    "    -a tuple (distances, paths) ,where\n",
    "    \n",
    "    -- distances: dictionary of nodes already visited, key node and value the number of hops to \n",
    "        get there from the source\n",
    "    -- paths: dictionary that contains, for node in the graph, the \n",
    "        shortest path connecting him with the source\n",
    "    \"\"\"\n",
    "    # initiate all the distances to inf except for the source node that has distance 0 from itself\n",
    "    distances = {}\n",
    "    parents = {}\n",
    "    for node in list(G.nodes):\n",
    "            distances[node] = inf\n",
    "            parents[node] = 'nil'\n",
    "    distances[source] = 0\n",
    "    \n",
    "    # create FIFO queue of nodes to visit and enqueue the source node toghether with its distance\n",
    "    to_visit = deque([])\n",
    "    to_visit.append((source, 0))\n",
    "\n",
    "    #while there is something to visit in the queue\n",
    "    while len(to_visit) > 0:\n",
    "        #remove the first element from the queue and visit it \n",
    "        node = to_visit.popleft()\n",
    "        # for each neighbour of the current node...\n",
    "        for neighbor in G.neighbors(node[0]):\n",
    "            # \n",
    "            if (distances[neighbor] > node[1]+ 1):\n",
    "                to_visit.append((neighbor, node[1] + 1 ))\n",
    "                distances[neighbor] = node[1]+ 1\n",
    "                parents[neighbor] = node[0]\n",
    "                    \n",
    "    #we are done visiting everything \n",
    "    \n",
    "    paths = {}\n",
    "    for node in list(G.nodes):\n",
    "        S = []\n",
    "        u = node\n",
    "        #print(u)\n",
    "        while parents[u] in parents:\n",
    "            S.append(u)\n",
    "            u = parents[u]\n",
    "        S.append(source)\n",
    "        paths[node] = S\n",
    "    \n",
    "    return ((distances, paths))\n",
    "\n",
    "shortest_paths(G, 0)"
   ]
  },
  {
   "cell_type": "code",
   "execution_count": 27,
   "metadata": {},
   "outputs": [
    {
     "data": {
      "text/plain": [
       "{0: {0: [0], 1: [1, 0], 2: [2, 0], 3: [3, 0], 4: [4, 0], 5: [5, 0]},\n",
       " 1: {0: [0, 1], 1: [1], 2: [2, 1], 3: [3, 1], 4: [4, 1], 5: [5, 1]},\n",
       " 2: {0: [0, 2], 1: [1, 2], 2: [2], 3: [3, 2], 4: [4, 2], 5: [5, 2]},\n",
       " 3: {0: [0, 3], 1: [1, 3], 2: [2, 3], 3: [3], 4: [4, 3], 5: [5, 3]},\n",
       " 4: {0: [0, 4], 1: [1, 4], 2: [2, 4], 3: [3, 4], 4: [4], 5: [5, 4]},\n",
       " 5: {0: [0, 5], 1: [1, 5], 2: [2, 5], 3: [3, 5], 4: [4, 5], 5: [5]}}"
      ]
     },
     "execution_count": 27,
     "metadata": {},
     "output_type": "execute_result"
    }
   ],
   "source": [
    "def all_shortest_paths(G):\n",
    "    \"\"\"\n",
    "    This function returns a dictionary,\n",
    "    containing, for each node, a nested dictionary with all the possible paths to the other\n",
    "    nodes.\n",
    "    \"\"\"\n",
    "    return({i: shortest_paths(G, i)[1] for i in G.nodes}   )\n",
    "\n",
    "all_shortest_paths(rrG)"
   ]
  },
  {
   "cell_type": "code",
   "execution_count": 21,
   "metadata": {
    "collapsed": true
   },
   "outputs": [],
   "source": [
    "def hbar(G):\n",
    "    \"\"\"\n",
    "    This function computes the mean of the lengths \n",
    "    of the shortest paths connecting all node pairs.\n",
    "    \n",
    "    The function performs Dijkstra's algorithm starting from \n",
    "    each node; every time it appends the length of the\n",
    "    shortest paths from the source in a list.\n",
    "    \n",
    "    The last step is take the average of the elements \n",
    "    in the list.\n",
    "    \n",
    "    Input:\n",
    "    - G: a graph\n",
    "    \n",
    "    Output:\n",
    "    -hbar: mean of the lengths of the shortest paths \n",
    "    connecting all node pairs\n",
    "    \"\"\"\n",
    "    distances = []\n",
    "    for i in list(G.nodes):\n",
    "        distances.append(list(shortest_paths(G, i)[0]))\n",
    "    hbar = np.mean(np.array(distances))                                                                    # div (n-1)\n",
    "    return (hbar)\n",
    "    "
   ]
  },
  {
   "cell_type": "code",
   "execution_count": 228,
   "metadata": {},
   "outputs": [
    {
     "name": "stdout",
     "output_type": "stream",
     "text": [
      "The graph is connected\n",
      "[9, 1]\n"
     ]
    },
    {
     "data": {
      "image/png": "[encoded data removed]",
      "text/plain": [
       "<matplotlib.figure.Figure at 0x27a82e23e10>"
      ]
     },
     "metadata": {},
     "output_type": "display_data"
    },
    {
     "name": "stdout",
     "output_type": "stream",
     "text": [
      "average h = 4.5\n"
     ]
    }
   ],
   "source": [
    "# generates a random graph describing the topology of the ToR switch network\n",
    "G = jellyfish(10, 3)\n",
    "\n",
    "# checks its connectivity\n",
    "if Laplacian(G) == 1: print(\"The graph is connected\")\n",
    "else: print(\"The graph is not connected\")\n",
    "    \n",
    "# shortest path routes\n",
    "source = 1\n",
    "target = 9\n",
    "print(all_shortest_paths(G)[source][target])\n",
    "\n",
    "pos = nx.spring_layout(G)\n",
    "nx.draw(G, pos, with_labels=True)\n",
    "plt.show() \n",
    "\n",
    "# estimate the mean of the lengths of the shortest paths connecting all node pairs\n",
    "print(\"average h =\", hbar(G))"
   ]
  },
  {
   "cell_type": "markdown",
   "metadata": {},
   "source": [
    "### Plot the application-oblivious throughput bound TH, versus n for the two graph models"
   ]
  },
  {
   "cell_type": "code",
   "execution_count": 23,
   "metadata": {},
   "outputs": [
    {
     "data": {
      "image/png": "[encoded data removed]",
      "text/plain": [
       "<matplotlib.figure.Figure at 0x27a812d3c88>"
      ]
     },
     "metadata": {},
     "output_type": "display_data"
    }
   ],
   "source": [
    "TH = []\n",
    "for n in range(9,101): \n",
    "    p = 8/(n-1)\n",
    "    # create a G_n,p random graph\n",
    "    Gnp = nx.gnp_random_graph(n=n, p=p)\n",
    "    TH.append(p/hbar(Gnp))\n",
    "\n",
    "x = np.array(list(range(9,101)))\n",
    "y = np.array(TH)\n",
    "plt.plot(x, y,label = 'p-ER random graph')\n",
    "\n",
    "TH = []\n",
    "for n in range(9,101): \n",
    "    r = 8\n",
    "    # create a G_n,r regular random graph\n",
    "    rrG = nx.random_regular_graph(d=r, n=n)\n",
    "    TH.append(r/(hbar(Gnp)*(n-1)))\n",
    "\n",
    "x = np.array(list(range(9,101)))\n",
    "y = np.array(TH)\n",
    "plt.plot(x, y,label = 'r-regular r. g.')\n",
    "\n",
    "plt.title(\"Application oblivious throughput\\nversus n\")\n",
    "plt.ylabel(\"TH bound\")\n",
    "plt.xlabel(\"n\")\n",
    "plt.legend(loc = \"upper right\")\n",
    "plt.show()"
   ]
  },
  {
   "cell_type": "markdown",
   "metadata": {},
   "source": [
    "### Assume a link can break down (fail) with probability q.\n",
    "\n",
    "Plot TH as a function of q for 0 < q < 0,25, for the two network models in point above with n = 100."
   ]
  },
  {
   "cell_type": "code",
   "execution_count": 24,
   "metadata": {
    "collapsed": true
   },
   "outputs": [],
   "source": [
    "def failure(G, q):\n",
    "    \"\"\"\n",
    "    This function simulates failures among \n",
    "    the connections in a network.\n",
    "    \n",
    "    Input:\n",
    "    -G: a graph\n",
    "    -q: probability that a connection breaks down\n",
    "\n",
    "    Output:\n",
    "    -G: the graph given in input whithout the failed connections\n",
    "    \"\"\"\n",
    "\n",
    "    edges = list(G.edges())\n",
    "    for i in range(len(G.edges())):\n",
    "        x = random.uniform(0,1)\n",
    "        if x < q: \n",
    "            G.remove_edge(edges[i][0], edges[i][1])\n",
    "            \n",
    "    return G"
   ]
  },
  {
   "cell_type": "code",
   "execution_count": 25,
   "metadata": {},
   "outputs": [
    {
     "data": {
      "image/png": "[encoded data removed]",
      "text/plain": [
       "<matplotlib.figure.Figure at 0x27a80171be0>"
      ]
     },
     "metadata": {},
     "output_type": "display_data"
    }
   ],
   "source": [
    "def throughput(G):\n",
    "    \"\"\"\n",
    "    This function evaluates the throughput bound given a specific graph.\n",
    "    Here there are no assuptions on the nature of the graph.\n",
    "    \n",
    "    Input:\n",
    "    - G: a graph\n",
    "    \n",
    "    Output:\n",
    "    - t: the estimated throughput\n",
    "    \"\"\"\n",
    "    \n",
    "    m = len(G.edges())\n",
    "    h = hbar(G)\n",
    "    v = n*(n-1)/2\n",
    "    t = m/(h*v)\n",
    "    return (t)\n",
    "\n",
    "def thr_vs_q_rrG (n=100):\n",
    "    \"\"\"\n",
    "    This function evaluates the throughput bound of an r-regular random graph as a function of q,\n",
    "    with n fixed,where q is corresponding to the probability that a link can break down(fail).\n",
    "    Here r (degree for each node) is taken to be 8\n",
    "    \n",
    "    Input:\n",
    "    - n: Number of nodes \n",
    "    \n",
    "    Output:\n",
    "    - TH: the estimated throughput evaluated each time for a specific prob. q\n",
    "    \"\"\"\n",
    "    r = 8\n",
    "    G = nx.random_regular_graph(d=r, n=n)\n",
    "    Q = np.arange(0,0.25,0.01)\n",
    "    TH = []\n",
    "    for q in Q:\n",
    "        G = failure(G, q)\n",
    "        TH.append(throughput(G))\n",
    "    return TH\n",
    "    \n",
    "    \n",
    "def thr_vs_q_pER (n=100):\n",
    "    \"\"\"\n",
    "    This function evaluates the throughput bound of a p-ER random graph as a function of q,\n",
    "    with n fixed,where q is corresponding to the probability that a link can break down(fail).\n",
    "    Here  r (degree for each node) is taken to be 8\n",
    "    \n",
    "    Input:\n",
    "    - n: Number of nodes \n",
    "    \n",
    "    Output:\n",
    "    - TH: the estimated throughput evaluated each time for a specific prob. q\n",
    "    \"\"\"\n",
    "    p = 8/(n-1)\n",
    "    G = nx.gnp_random_graph(n=n, p=p)\n",
    "    Q = np.arange(0,0.25,0.01)\n",
    "    TH = []\n",
    "    for q in Q:\n",
    "        G = failure(G, q)\n",
    "        TH.append(throughput(G))\n",
    "    return TH\n",
    "    \n",
    "    \n",
    "x = np.arange(0,0.25,0.01)\n",
    "y = thr_vs_q_rrG()\n",
    "plt.plot(x, y, label = \"r-regular random graph\")\n",
    "\n",
    "x = np.arange(0,0.25,0.01)\n",
    "y = thr_vs_q_pER()\n",
    "plt.plot(x, y, label = \"p-ER random graph\")\n",
    "\n",
    "plt.title(\"Throughput bound vs q\")\n",
    "plt.ylabel(\"TH bound\")\n",
    "plt.xlabel(\"q\")\n",
    "plt.legend(loc = \"upper right\")\n",
    "plt.show()"
   ]
  }
 ],
 "metadata": {
  "kernelspec": {
   "display_name": "Python 3",
   "language": "python",
   "name": "python3"
  },
  "language_info": {
   "codemirror_mode": {
    "name": "ipython",
    "version": 3
   },
   "file_extension": ".py",
   "mimetype": "text/x-python",
   "name": "python",
   "nbconvert_exporter": "python",
   "pygments_lexer": "ipython3",
   "version": "3.6.3"
  }
 },
 "nbformat": 4,
 "nbformat_minor": 2
}
